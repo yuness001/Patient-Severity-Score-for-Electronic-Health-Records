{
  "nbformat": 4,
  "nbformat_minor": 0,
  "metadata": {
    "colab": {
      "name": "trash",
      "provenance": [],
      "collapsed_sections": []
    },
    "kernelspec": {
      "name": "python3",
      "display_name": "Python 3"
    },
    "language_info": {
      "name": "python"
    }
  },
  "cells": [
    {
      "cell_type": "code",
      "metadata": {
        "id": "GXNm1kYCfwMz"
      },
      "source": [
        "import pandas as pd\n",
        "import seaborn as sns\n",
        "import numpy as np\n",
        "import matplotlib.pyplot as plt"
      ],
      "execution_count": 59,
      "outputs": []
    },
    {
      "cell_type": "code",
      "metadata": {
        "id": "BPCGfrQff9go"
      },
      "source": [
        "df=pd.read_csv('/content/Patient Severity Score for Electronic Health Records.csv')"
      ],
      "execution_count": 60,
      "outputs": []
    },
    {
      "cell_type": "code",
      "metadata": {
        "colab": {
          "base_uri": "https://localhost:8080/",
          "height": 419
        },
        "id": "M3ueeeQ_gAaq",
        "outputId": "d9fd1d9c-4851-41dc-9e51-1fcac242ede0"
      },
      "source": [
        "df"
      ],
      "execution_count": 61,
      "outputs": [
        {
          "output_type": "execute_result",
          "data": {
            "text/html": [
              "<div>\n",
              "<style scoped>\n",
              "    .dataframe tbody tr th:only-of-type {\n",
              "        vertical-align: middle;\n",
              "    }\n",
              "\n",
              "    .dataframe tbody tr th {\n",
              "        vertical-align: top;\n",
              "    }\n",
              "\n",
              "    .dataframe thead th {\n",
              "        text-align: right;\n",
              "    }\n",
              "</style>\n",
              "<table border=\"1\" class=\"dataframe\">\n",
              "  <thead>\n",
              "    <tr style=\"text-align: right;\">\n",
              "      <th></th>\n",
              "      <th>TEMPF</th>\n",
              "      <th>PULSE</th>\n",
              "      <th>RESPR</th>\n",
              "      <th>BPSYS</th>\n",
              "      <th>BPDIAS</th>\n",
              "      <th>POPCT</th>\n",
              "      <th>SCORE</th>\n",
              "    </tr>\n",
              "  </thead>\n",
              "  <tbody>\n",
              "    <tr>\n",
              "      <th>0</th>\n",
              "      <td>99.1</td>\n",
              "      <td>90</td>\n",
              "      <td>16</td>\n",
              "      <td>129</td>\n",
              "      <td>75</td>\n",
              "      <td>99</td>\n",
              "      <td>0</td>\n",
              "    </tr>\n",
              "    <tr>\n",
              "      <th>1</th>\n",
              "      <td>97.5</td>\n",
              "      <td>71</td>\n",
              "      <td>16</td>\n",
              "      <td>167</td>\n",
              "      <td>82</td>\n",
              "      <td>98</td>\n",
              "      <td>0</td>\n",
              "    </tr>\n",
              "    <tr>\n",
              "      <th>2</th>\n",
              "      <td>98.4</td>\n",
              "      <td>89</td>\n",
              "      <td>20</td>\n",
              "      <td>118</td>\n",
              "      <td>76</td>\n",
              "      <td>98</td>\n",
              "      <td>0</td>\n",
              "    </tr>\n",
              "    <tr>\n",
              "      <th>3</th>\n",
              "      <td>97.6</td>\n",
              "      <td>85</td>\n",
              "      <td>16</td>\n",
              "      <td>124</td>\n",
              "      <td>95</td>\n",
              "      <td>98</td>\n",
              "      <td>0</td>\n",
              "    </tr>\n",
              "    <tr>\n",
              "      <th>4</th>\n",
              "      <td>98.2</td>\n",
              "      <td>80</td>\n",
              "      <td>18</td>\n",
              "      <td>156</td>\n",
              "      <td>92</td>\n",
              "      <td>98</td>\n",
              "      <td>0</td>\n",
              "    </tr>\n",
              "    <tr>\n",
              "      <th>...</th>\n",
              "      <td>...</td>\n",
              "      <td>...</td>\n",
              "      <td>...</td>\n",
              "      <td>...</td>\n",
              "      <td>...</td>\n",
              "      <td>...</td>\n",
              "      <td>...</td>\n",
              "    </tr>\n",
              "    <tr>\n",
              "      <th>79535</th>\n",
              "      <td>98.2</td>\n",
              "      <td>96</td>\n",
              "      <td>15</td>\n",
              "      <td>147</td>\n",
              "      <td>81</td>\n",
              "      <td>98</td>\n",
              "      <td>1</td>\n",
              "    </tr>\n",
              "    <tr>\n",
              "      <th>79536</th>\n",
              "      <td>98.7</td>\n",
              "      <td>83</td>\n",
              "      <td>21</td>\n",
              "      <td>161</td>\n",
              "      <td>87</td>\n",
              "      <td>96</td>\n",
              "      <td>2</td>\n",
              "    </tr>\n",
              "    <tr>\n",
              "      <th>79537</th>\n",
              "      <td>97.5</td>\n",
              "      <td>125</td>\n",
              "      <td>26</td>\n",
              "      <td>86</td>\n",
              "      <td>45</td>\n",
              "      <td>81</td>\n",
              "      <td>3</td>\n",
              "    </tr>\n",
              "    <tr>\n",
              "      <th>79538</th>\n",
              "      <td>98.0</td>\n",
              "      <td>128</td>\n",
              "      <td>16</td>\n",
              "      <td>127</td>\n",
              "      <td>96</td>\n",
              "      <td>99</td>\n",
              "      <td>2</td>\n",
              "    </tr>\n",
              "    <tr>\n",
              "      <th>79539</th>\n",
              "      <td>98.2</td>\n",
              "      <td>82</td>\n",
              "      <td>16</td>\n",
              "      <td>137</td>\n",
              "      <td>98</td>\n",
              "      <td>95</td>\n",
              "      <td>1</td>\n",
              "    </tr>\n",
              "  </tbody>\n",
              "</table>\n",
              "<p>79540 rows × 7 columns</p>\n",
              "</div>"
            ],
            "text/plain": [
              "       TEMPF  PULSE  RESPR  BPSYS  BPDIAS  POPCT  SCORE \n",
              "0       99.1     90     16    129      75     99       0\n",
              "1       97.5     71     16    167      82     98       0\n",
              "2       98.4     89     20    118      76     98       0\n",
              "3       97.6     85     16    124      95     98       0\n",
              "4       98.2     80     18    156      92     98       0\n",
              "...      ...    ...    ...    ...     ...    ...     ...\n",
              "79535   98.2     96     15    147      81     98       1\n",
              "79536   98.7     83     21    161      87     96       2\n",
              "79537   97.5    125     26     86      45     81       3\n",
              "79538   98.0    128     16    127      96     99       2\n",
              "79539   98.2     82     16    137      98     95       1\n",
              "\n",
              "[79540 rows x 7 columns]"
            ]
          },
          "metadata": {
            "tags": []
          },
          "execution_count": 61
        }
      ]
    },
    {
      "cell_type": "code",
      "metadata": {
        "colab": {
          "base_uri": "https://localhost:8080/",
          "height": 297
        },
        "id": "3I94KpBag6mr",
        "outputId": "2eae5a4d-3a13-49f7-cefc-b3a7d5a98790"
      },
      "source": [
        "df.describe()"
      ],
      "execution_count": 62,
      "outputs": [
        {
          "output_type": "execute_result",
          "data": {
            "text/html": [
              "<div>\n",
              "<style scoped>\n",
              "    .dataframe tbody tr th:only-of-type {\n",
              "        vertical-align: middle;\n",
              "    }\n",
              "\n",
              "    .dataframe tbody tr th {\n",
              "        vertical-align: top;\n",
              "    }\n",
              "\n",
              "    .dataframe thead th {\n",
              "        text-align: right;\n",
              "    }\n",
              "</style>\n",
              "<table border=\"1\" class=\"dataframe\">\n",
              "  <thead>\n",
              "    <tr style=\"text-align: right;\">\n",
              "      <th></th>\n",
              "      <th>TEMPF</th>\n",
              "      <th>PULSE</th>\n",
              "      <th>RESPR</th>\n",
              "      <th>BPSYS</th>\n",
              "      <th>BPDIAS</th>\n",
              "      <th>POPCT</th>\n",
              "      <th>SCORE</th>\n",
              "    </tr>\n",
              "  </thead>\n",
              "  <tbody>\n",
              "    <tr>\n",
              "      <th>count</th>\n",
              "      <td>79540.000000</td>\n",
              "      <td>79540.000000</td>\n",
              "      <td>79540.000000</td>\n",
              "      <td>79540.000000</td>\n",
              "      <td>79540.000000</td>\n",
              "      <td>79540.000000</td>\n",
              "      <td>79540.000000</td>\n",
              "    </tr>\n",
              "    <tr>\n",
              "      <th>mean</th>\n",
              "      <td>98.072934</td>\n",
              "      <td>86.288257</td>\n",
              "      <td>18.646568</td>\n",
              "      <td>135.939955</td>\n",
              "      <td>79.046015</td>\n",
              "      <td>97.741463</td>\n",
              "      <td>0.921297</td>\n",
              "    </tr>\n",
              "    <tr>\n",
              "      <th>std</th>\n",
              "      <td>1.010266</td>\n",
              "      <td>17.373582</td>\n",
              "      <td>3.873378</td>\n",
              "      <td>23.452158</td>\n",
              "      <td>14.572607</td>\n",
              "      <td>2.809677</td>\n",
              "      <td>1.060885</td>\n",
              "    </tr>\n",
              "    <tr>\n",
              "      <th>min</th>\n",
              "      <td>89.500000</td>\n",
              "      <td>7.000000</td>\n",
              "      <td>8.000000</td>\n",
              "      <td>54.000000</td>\n",
              "      <td>21.000000</td>\n",
              "      <td>23.000000</td>\n",
              "      <td>0.000000</td>\n",
              "    </tr>\n",
              "    <tr>\n",
              "      <th>25%</th>\n",
              "      <td>97.600000</td>\n",
              "      <td>74.000000</td>\n",
              "      <td>16.000000</td>\n",
              "      <td>120.000000</td>\n",
              "      <td>70.000000</td>\n",
              "      <td>97.000000</td>\n",
              "      <td>0.000000</td>\n",
              "    </tr>\n",
              "    <tr>\n",
              "      <th>50%</th>\n",
              "      <td>98.000000</td>\n",
              "      <td>85.000000</td>\n",
              "      <td>18.000000</td>\n",
              "      <td>134.000000</td>\n",
              "      <td>79.000000</td>\n",
              "      <td>98.000000</td>\n",
              "      <td>1.000000</td>\n",
              "    </tr>\n",
              "    <tr>\n",
              "      <th>75%</th>\n",
              "      <td>98.500000</td>\n",
              "      <td>97.000000</td>\n",
              "      <td>20.000000</td>\n",
              "      <td>148.000000</td>\n",
              "      <td>88.000000</td>\n",
              "      <td>99.000000</td>\n",
              "      <td>2.000000</td>\n",
              "    </tr>\n",
              "    <tr>\n",
              "      <th>max</th>\n",
              "      <td>105.400000</td>\n",
              "      <td>200.000000</td>\n",
              "      <td>90.000000</td>\n",
              "      <td>280.000000</td>\n",
              "      <td>177.000000</td>\n",
              "      <td>100.000000</td>\n",
              "      <td>3.000000</td>\n",
              "    </tr>\n",
              "  </tbody>\n",
              "</table>\n",
              "</div>"
            ],
            "text/plain": [
              "              TEMPF         PULSE  ...         POPCT        SCORE \n",
              "count  79540.000000  79540.000000  ...  79540.000000  79540.000000\n",
              "mean      98.072934     86.288257  ...     97.741463      0.921297\n",
              "std        1.010266     17.373582  ...      2.809677      1.060885\n",
              "min       89.500000      7.000000  ...     23.000000      0.000000\n",
              "25%       97.600000     74.000000  ...     97.000000      0.000000\n",
              "50%       98.000000     85.000000  ...     98.000000      1.000000\n",
              "75%       98.500000     97.000000  ...     99.000000      2.000000\n",
              "max      105.400000    200.000000  ...    100.000000      3.000000\n",
              "\n",
              "[8 rows x 7 columns]"
            ]
          },
          "metadata": {
            "tags": []
          },
          "execution_count": 62
        }
      ]
    },
    {
      "cell_type": "code",
      "metadata": {
        "colab": {
          "base_uri": "https://localhost:8080/"
        },
        "id": "n4lgNRRHg756",
        "outputId": "7cbf8f12-a967-40f3-ae0e-a4247c4dfc5b"
      },
      "source": [
        "df.info()"
      ],
      "execution_count": 63,
      "outputs": [
        {
          "output_type": "stream",
          "text": [
            "<class 'pandas.core.frame.DataFrame'>\n",
            "RangeIndex: 79540 entries, 0 to 79539\n",
            "Data columns (total 7 columns):\n",
            " #   Column  Non-Null Count  Dtype  \n",
            "---  ------  --------------  -----  \n",
            " 0   TEMPF   79540 non-null  float64\n",
            " 1   PULSE   79540 non-null  int64  \n",
            " 2   RESPR   79540 non-null  int64  \n",
            " 3   BPSYS   79540 non-null  int64  \n",
            " 4   BPDIAS  79540 non-null  int64  \n",
            " 5   POPCT   79540 non-null  int64  \n",
            " 6   SCORE   79540 non-null  int64  \n",
            "dtypes: float64(1), int64(6)\n",
            "memory usage: 4.2 MB\n"
          ],
          "name": "stdout"
        }
      ]
    },
    {
      "cell_type": "code",
      "metadata": {
        "id": "6eq1S6aXg9j7"
      },
      "source": [
        "df['SCORE']=df['SCORE ']\n",
        "df=df.drop(columns='SCORE ')"
      ],
      "execution_count": 64,
      "outputs": []
    },
    {
      "cell_type": "code",
      "metadata": {
        "colab": {
          "base_uri": "https://localhost:8080/"
        },
        "id": "hm2amYKrhMb1",
        "outputId": "8f08aaa8-4310-4df3-d2f1-3911b7cc1ef6"
      },
      "source": [
        "hassan=df['SCORE'].value_counts()\n",
        "hassan"
      ],
      "execution_count": 65,
      "outputs": [
        {
          "output_type": "execute_result",
          "data": {
            "text/plain": [
              "0    37412\n",
              "1    21700\n",
              "3    10724\n",
              "2     9704\n",
              "Name: SCORE, dtype: int64"
            ]
          },
          "metadata": {
            "tags": []
          },
          "execution_count": 65
        }
      ]
    },
    {
      "cell_type": "code",
      "metadata": {
        "colab": {
          "base_uri": "https://localhost:8080/",
          "height": 248
        },
        "id": "1T_VOyxchmEn",
        "outputId": "78e19032-cf6e-4159-cc80-05dbe6ff4f0c"
      },
      "source": [
        "hassan.plot.pie(autopct='%1.1f%%');"
      ],
      "execution_count": 66,
      "outputs": [
        {
          "output_type": "display_data",
          "data": {
            "image/png": "[encoded data removed]",
            "text/plain": [
              "<Figure size 432x288 with 1 Axes>"
            ]
          },
          "metadata": {
            "tags": []
          }
        }
      ]
    },
    {
      "cell_type": "code",
      "metadata": {
        "id": "1fqvKIOEhwuJ"
      },
      "source": [
        "hassna=df.corr()"
      ],
      "execution_count": 67,
      "outputs": []
    },
    {
      "cell_type": "code",
      "metadata": {
        "colab": {
          "base_uri": "https://localhost:8080/",
          "height": 266
        },
        "id": "lHcB3o5xi4KG",
        "outputId": "2181e1e3-33f2-4787-ea37-f433641d5de8"
      },
      "source": [
        "hassna"
      ],
      "execution_count": 68,
      "outputs": [
        {
          "output_type": "execute_result",
          "data": {
            "text/html": [
              "<div>\n",
              "<style scoped>\n",
              "    .dataframe tbody tr th:only-of-type {\n",
              "        vertical-align: middle;\n",
              "    }\n",
              "\n",
              "    .dataframe tbody tr th {\n",
              "        vertical-align: top;\n",
              "    }\n",
              "\n",
              "    .dataframe thead th {\n",
              "        text-align: right;\n",
              "    }\n",
              "</style>\n",
              "<table border=\"1\" class=\"dataframe\">\n",
              "  <thead>\n",
              "    <tr style=\"text-align: right;\">\n",
              "      <th></th>\n",
              "      <th>TEMPF</th>\n",
              "      <th>PULSE</th>\n",
              "      <th>RESPR</th>\n",
              "      <th>BPSYS</th>\n",
              "      <th>BPDIAS</th>\n",
              "      <th>POPCT</th>\n",
              "      <th>SCORE</th>\n",
              "    </tr>\n",
              "  </thead>\n",
              "  <tbody>\n",
              "    <tr>\n",
              "      <th>TEMPF</th>\n",
              "      <td>1.000000</td>\n",
              "      <td>0.246747</td>\n",
              "      <td>0.039762</td>\n",
              "      <td>-0.022611</td>\n",
              "      <td>-0.011896</td>\n",
              "      <td>-0.049310</td>\n",
              "      <td>0.157599</td>\n",
              "    </tr>\n",
              "    <tr>\n",
              "      <th>PULSE</th>\n",
              "      <td>0.246747</td>\n",
              "      <td>1.000000</td>\n",
              "      <td>0.125084</td>\n",
              "      <td>0.001319</td>\n",
              "      <td>0.124204</td>\n",
              "      <td>-0.106369</td>\n",
              "      <td>0.529807</td>\n",
              "    </tr>\n",
              "    <tr>\n",
              "      <th>RESPR</th>\n",
              "      <td>0.039762</td>\n",
              "      <td>0.125084</td>\n",
              "      <td>1.000000</td>\n",
              "      <td>0.053454</td>\n",
              "      <td>0.026943</td>\n",
              "      <td>-0.117410</td>\n",
              "      <td>0.392445</td>\n",
              "    </tr>\n",
              "    <tr>\n",
              "      <th>BPSYS</th>\n",
              "      <td>-0.022611</td>\n",
              "      <td>0.001319</td>\n",
              "      <td>0.053454</td>\n",
              "      <td>1.000000</td>\n",
              "      <td>0.601627</td>\n",
              "      <td>-0.048045</td>\n",
              "      <td>-0.103474</td>\n",
              "    </tr>\n",
              "    <tr>\n",
              "      <th>BPDIAS</th>\n",
              "      <td>-0.011896</td>\n",
              "      <td>0.124204</td>\n",
              "      <td>0.026943</td>\n",
              "      <td>0.601627</td>\n",
              "      <td>1.000000</td>\n",
              "      <td>0.030292</td>\n",
              "      <td>-0.073230</td>\n",
              "    </tr>\n",
              "    <tr>\n",
              "      <th>POPCT</th>\n",
              "      <td>-0.049310</td>\n",
              "      <td>-0.106369</td>\n",
              "      <td>-0.117410</td>\n",
              "      <td>-0.048045</td>\n",
              "      <td>0.030292</td>\n",
              "      <td>1.000000</td>\n",
              "      <td>-0.364250</td>\n",
              "    </tr>\n",
              "    <tr>\n",
              "      <th>SCORE</th>\n",
              "      <td>0.157599</td>\n",
              "      <td>0.529807</td>\n",
              "      <td>0.392445</td>\n",
              "      <td>-0.103474</td>\n",
              "      <td>-0.073230</td>\n",
              "      <td>-0.364250</td>\n",
              "      <td>1.000000</td>\n",
              "    </tr>\n",
              "  </tbody>\n",
              "</table>\n",
              "</div>"
            ],
            "text/plain": [
              "           TEMPF     PULSE     RESPR     BPSYS    BPDIAS     POPCT     SCORE\n",
              "TEMPF   1.000000  0.246747  0.039762 -0.022611 -0.011896 -0.049310  0.157599\n",
              "PULSE   0.246747  1.000000  0.125084  0.001319  0.124204 -0.106369  0.529807\n",
              "RESPR   0.039762  0.125084  1.000000  0.053454  0.026943 -0.117410  0.392445\n",
              "BPSYS  -0.022611  0.001319  0.053454  1.000000  0.601627 -0.048045 -0.103474\n",
              "BPDIAS -0.011896  0.124204  0.026943  0.601627  1.000000  0.030292 -0.073230\n",
              "POPCT  -0.049310 -0.106369 -0.117410 -0.048045  0.030292  1.000000 -0.364250\n",
              "SCORE   0.157599  0.529807  0.392445 -0.103474 -0.073230 -0.364250  1.000000"
            ]
          },
          "metadata": {
            "tags": []
          },
          "execution_count": 68
        }
      ]
    },
    {
      "cell_type": "code",
      "metadata": {
        "colab": {
          "base_uri": "https://localhost:8080/",
          "height": 595
        },
        "id": "Y6eI60XViu9y",
        "outputId": "9e52a1c8-af5f-4c62-8c02-d2d564f6ff9d"
      },
      "source": [
        "f,ax=plt.subplots(figsize=(10,10))\n",
        "mask = np.triu(np.ones_like(hassna, dtype=bool))\n",
        "sns.heatmap(hassna,annot=True,ax=ax,linewidths=.5,cmap=\"YlGnBu\",mask=mask);"
      ],
      "execution_count": 69,
      "outputs": [
        {
          "output_type": "display_data",
          "data": {
            "image/png": "[encoded data removed]",
            "text/plain": [
              "<Figure size 720x720 with 2 Axes>"
            ]
          },
          "metadata": {
            "tags": [],
            "needs_background": "light"
          }
        }
      ]
    },
    {
      "cell_type": "code",
      "metadata": {
        "colab": {
          "base_uri": "https://localhost:8080/",
          "height": 296
        },
        "id": "4Eies_odKED-",
        "outputId": "0f31a455-4184-4c51-87b8-2f421221b5ad"
      },
      "source": [
        "colors = ['red', 'orange', 'blue','green']\n",
        "for i in range(4):\n",
        "    x = df[df['SCORE'] == i]\n",
        "    plt.scatter(x['BPSYS'], x['BPDIAS'],c = colors[i],label=i)\n",
        "plt.xlabel(\"BPSYS\")\n",
        "plt.ylabel(\"BPDIAS\")\n",
        "plt.legend()"
      ],
      "execution_count": 70,
      "outputs": [
        {
          "output_type": "execute_result",
          "data": {
            "text/plain": [
              "<matplotlib.legend.Legend at 0x7f3525a2e210>"
            ]
          },
          "metadata": {
            "tags": []
          },
          "execution_count": 70
        },
        {
          "output_type": "display_data",
          "data": {
            "image/png": "[encoded data removed]",
            "text/plain": [
              "<Figure size 432x288 with 1 Axes>"
            ]
          },
          "metadata": {
            "tags": [],
            "needs_background": "light"
          }
        }
      ]
    },
    {
      "cell_type": "code",
      "metadata": {
        "colab": {
          "base_uri": "https://localhost:8080/",
          "height": 296
        },
        "id": "4KyJkVK3NCh7",
        "outputId": "6308c963-876b-4135-da6d-8b3937eb8445"
      },
      "source": [
        "for i in range(4):\n",
        "    x = df[df['SCORE'] == i]\n",
        "    plt.scatter(x['BPDIAS'], x['PULSE'],c = colors[i],label=i)\n",
        "plt.xlabel(\"BPDIAS\")\n",
        "plt.ylabel(\"PULSE\")\n",
        "plt.legend()"
      ],
      "execution_count": 71,
      "outputs": [
        {
          "output_type": "execute_result",
          "data": {
            "text/plain": [
              "<matplotlib.legend.Legend at 0x7f35262a6290>"
            ]
          },
          "metadata": {
            "tags": []
          },
          "execution_count": 71
        },
        {
          "output_type": "display_data",
          "data": {
            "image/png": "[encoded data removed]",
            "text/plain": [
              "<Figure size 432x288 with 1 Axes>"
            ]
          },
          "metadata": {
            "tags": [],
            "needs_background": "light"
          }
        }
      ]
    },
    {
      "cell_type": "code",
      "metadata": {
        "id": "UDQgkzudk2HR"
      },
      "source": [
        "X=df.iloc[:,:-1]\n",
        "y=df['SCORE']"
      ],
      "execution_count": 72,
      "outputs": []
    },
    {
      "cell_type": "code",
      "metadata": {
        "id": "XU3-SRWvjBay"
      },
      "source": [
        "from sklearn.model_selection import train_test_split\n",
        "X_train,X_test,y_train,y_test=train_test_split(X,y,test_size=0.25)"
      ],
      "execution_count": 73,
      "outputs": []
    },
    {
      "cell_type": "code",
      "metadata": {
        "colab": {
          "base_uri": "https://localhost:8080/"
        },
        "id": "QlsIfUvom1mz",
        "outputId": "02b01f65-8d57-4cac-dadc-51079ba60224"
      },
      "source": [
        "from sklearn.preprocessing import MinMaxScaler\n",
        "scaler=MinMaxScaler()\n",
        "(scaler.fit_transform(df))"
      ],
      "execution_count": 74,
      "outputs": [
        {
          "output_type": "execute_result",
          "data": {
            "text/plain": [
              "array([[0.60377358, 0.43005181, 0.09756098, ..., 0.34615385, 0.98701299,\n",
              "        0.        ],\n",
              "       [0.50314465, 0.33160622, 0.09756098, ..., 0.39102564, 0.97402597,\n",
              "        0.        ],\n",
              "       [0.55974843, 0.42487047, 0.14634146, ..., 0.3525641 , 0.97402597,\n",
              "        0.        ],\n",
              "       ...,\n",
              "       [0.50314465, 0.61139896, 0.2195122 , ..., 0.15384615, 0.75324675,\n",
              "        1.        ],\n",
              "       [0.53459119, 0.62694301, 0.09756098, ..., 0.48076923, 0.98701299,\n",
              "        0.66666667],\n",
              "       [0.54716981, 0.38860104, 0.09756098, ..., 0.49358974, 0.93506494,\n",
              "        0.33333333]])"
            ]
          },
          "metadata": {
            "tags": []
          },
          "execution_count": 74
        }
      ]
    },
    {
      "cell_type": "code",
      "metadata": {
        "id": "vIEtOPbl0PgX"
      },
      "source": [
        "from sklearn.neighbors import KNeighborsClassifier"
      ],
      "execution_count": 75,
      "outputs": []
    },
    {
      "cell_type": "code",
      "metadata": {
        "id": "JrQjiG_N0We7"
      },
      "source": [
        "error_rate = []\n",
        "for i in range(1,40):\n",
        "    knn = KNeighborsClassifier( n_neighbors = i)\n",
        "    knn.fit(X_train , y_train)\n",
        "    pred_i = knn.predict(X_test)\n",
        "    error_rate.append(np.mean(pred_i != y_test))"
      ],
      "execution_count": 76,
      "outputs": []
    },
    {
      "cell_type": "code",
      "metadata": {
        "colab": {
          "base_uri": "https://localhost:8080/",
          "height": 483
        },
        "id": "kfvicIQv0ZNB",
        "outputId": "5f555f47-cf73-462b-d3ef-d263ba81b783"
      },
      "source": [
        "plt.figure( figsize=(10,8))\n",
        "plt.plot( range(1,40) , error_rate , color='purple', linestyle='--', marker='o',\n",
        "         markerfacecolor='yellow', markersize=10);"
      ],
      "execution_count": 77,
      "outputs": [
        {
          "output_type": "display_data",
          "data": {
            "image/png": "[encoded data removed]",
            "text/plain": [
              "<Figure size 720x576 with 1 Axes>"
            ]
          },
          "metadata": {
            "tags": [],
            "needs_background": "light"
          }
        }
      ]
    },
    {
      "cell_type": "code",
      "metadata": {
        "colab": {
          "base_uri": "https://localhost:8080/"
        },
        "id": "MhMXYjeB0eW0",
        "outputId": "0d3708b7-e52f-46d1-fd64-e7efe6263447"
      },
      "source": [
        "nnn=error_rate.index(min(error_rate))+1\n",
        "print('the best number of neighbors is:',nnn)"
      ],
      "execution_count": 78,
      "outputs": [
        {
          "output_type": "stream",
          "text": [
            "the best number of neighbors is: 1\n"
          ],
          "name": "stdout"
        }
      ]
    },
    {
      "cell_type": "code",
      "metadata": {
        "colab": {
          "base_uri": "https://localhost:8080/"
        },
        "id": "mwI5xk8I0gS0",
        "outputId": "6508980e-0657-4d76-f55f-2aeaf3bba7c7"
      },
      "source": [
        "knn=KNeighborsClassifier(n_neighbors=nnn)\n",
        "knn.fit(X_train,y_train)\n",
        "print('knn score is:',knn.score(X_test,y_test)*100,'%')"
      ],
      "execution_count": 79,
      "outputs": [
        {
          "output_type": "stream",
          "text": [
            "knn score is: 99.63791802866481 %\n"
          ],
          "name": "stdout"
        }
      ]
    },
    {
      "cell_type": "code",
      "metadata": {
        "id": "-6j5_S2j0pMY"
      },
      "source": [
        ""
      ],
      "execution_count": 79,
      "outputs": []
    }
  ]
}